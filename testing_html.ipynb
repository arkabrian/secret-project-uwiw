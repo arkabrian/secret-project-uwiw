{
 "cells": [
  {
   "cell_type": "code",
   "execution_count": 1,
   "id": "d39ae5bc",
   "metadata": {},
   "outputs": [],
   "source": [
    "from selenium import webdriver\n",
    "from selenium.webdriver.common.keys import Keys\n",
    "from selenium.webdriver.common.by import By\n",
    "from selenium.common.exceptions import NoSuchElementException\n",
    "from selenium.webdriver.common.action_chains import ActionChains\n",
    "import time"
   ]
  },
  {
   "cell_type": "code",
   "execution_count": 62,
   "id": "789f868d",
   "metadata": {},
   "outputs": [],
   "source": [
    "url = r\"C:\\Users\\Arka Brian\\Documents\\Arka\\Project kodingan\\BOT SIAKWAR\\Simulasi IRS\\Pengisian IRS.htm\"\n",
    "path = r\"C:\\Users\\Arka Brian\\Documents\\Arka\\Project kodingan\\BOT SIAKWAR\\msedgedriver.exe\"\n",
    "browser_driver = webdriver.Edge(executable_path=path)"
   ]
  },
  {
   "cell_type": "code",
   "execution_count": 63,
   "id": "6a0cccb8",
   "metadata": {},
   "outputs": [],
   "source": [
    "browser_driver.get(url)\n",
    "\n",
    "list_id = [\"r1\", \"r3\", \"r4\", \"r17\", \"r27\", \"r32\", \"r33\", \"r36\"]\n",
    "\n",
    "for id_matkul in list_id:\n",
    "    div = browser_driver.find_element_by_id(id_matkul)\n",
    "    radio_inputs = div.find_elements(By.XPATH, f\"//*[@id='{id_matkul}']//input[@type='radio']\")\n",
    "\n",
    "    for radio_input in radio_inputs:\n",
    "        radio_input.click()\n",
    "\n",
    "time.sleep(1)\n",
    "\n",
    "submit = browser_driver.find_element_by_name(\"submit\")\n",
    "submit.click()"
   ]
  },
  {
   "cell_type": "code",
   "execution_count": null,
   "id": "fee5d8b4",
   "metadata": {},
   "outputs": [],
   "source": []
  }
 ],
 "metadata": {
  "kernelspec": {
   "display_name": "Python 3",
   "language": "python",
   "name": "python3"
  },
  "language_info": {
   "codemirror_mode": {
    "name": "ipython",
    "version": 3
   },
   "file_extension": ".py",
   "mimetype": "text/x-python",
   "name": "python",
   "nbconvert_exporter": "python",
   "pygments_lexer": "ipython3",
   "version": "3.10.2"
  },
  "vscode": {
   "interpreter": {
    "hash": "369f2c481f4da34e4445cda3fffd2e751bd1c4d706f27375911949ba6bb62e1c"
   }
  }
 },
 "nbformat": 4,
 "nbformat_minor": 5
}
