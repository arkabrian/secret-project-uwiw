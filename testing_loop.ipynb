{
 "cells": [
  {
   "cell_type": "code",
   "execution_count": 2,
   "id": "b8051fe5",
   "metadata": {},
   "outputs": [],
   "source": [
    "from selenium import webdriver\n",
    "from selenium.webdriver.common.keys import Keys\n",
    "from selenium.webdriver.common.by import By\n",
    "from selenium.common.exceptions import NoSuchElementException\n",
    "from selenium.webdriver.common.action_chains import ActionChains"
   ]
  },
  {
   "cell_type": "code",
   "execution_count": 3,
   "id": "136402d3",
   "metadata": {},
   "outputs": [],
   "source": [
    "url = 'https://chat.openai.com/auth/login?next=%2Fchat'\n",
    "path = r\"C:\\Users\\Arka Brian\\Documents\\Arka\\Project kodingan\\BOT SIAKWAR\\msedgedriver.exe\""
   ]
  },
  {
   "cell_type": "code",
   "execution_count": 4,
   "id": "c8403922",
   "metadata": {},
   "outputs": [],
   "source": [
    "browser_driver = webdriver.Edge(executable_path=path)"
   ]
  },
  {
   "cell_type": "code",
   "execution_count": 5,
   "id": "fef91337",
   "metadata": {},
   "outputs": [
    {
     "ename": "NameError",
     "evalue": "name 'driver' is not defined",
     "output_type": "error",
     "traceback": [
      "\u001b[1;31m---------------------------------------------------------------------------\u001b[0m",
      "\u001b[1;31mNameError\u001b[0m                                 Traceback (most recent call last)",
      "Input \u001b[1;32mIn [5]\u001b[0m, in \u001b[0;36m<cell line: 3>\u001b[1;34m()\u001b[0m\n\u001b[0;32m      1\u001b[0m browser_driver\u001b[38;5;241m.\u001b[39mget(url)\n\u001b[1;32m----> 3\u001b[0m \u001b[38;5;28;01mwhile\u001b[39;00m \u001b[43mdriver\u001b[49m\u001b[38;5;241m.\u001b[39mfindElements(By\u001b[38;5;241m.\u001b[39mtext(\u001b[38;5;124m\"\u001b[39m\u001b[38;5;124mChatGPT is at capacity right now\u001b[39m\u001b[38;5;124m\"\u001b[39m))\u001b[38;5;241m.\u001b[39msize() \u001b[38;5;241m!=\u001b[39m \u001b[38;5;241m0\u001b[39m:\n\u001b[0;32m      4\u001b[0m     browser_driver\u001b[38;5;241m.\u001b[39mnavigate()\u001b[38;5;241m.\u001b[39mrefresh()\n",
      "\u001b[1;31mNameError\u001b[0m: name 'driver' is not defined"
     ]
    }
   ],
   "source": [
    "browser_driver.get(url)\n",
    "\n",
    "while browserdriver.findElements(By.text(\"ChatGPT is at capacity right now\")).size() != 0:\n",
    "    browser_driver.navigate().refresh()"
   ]
  }
 ],
 "metadata": {
  "kernelspec": {
   "display_name": "Python 3 (ipykernel)",
   "language": "python",
   "name": "python3"
  },
  "language_info": {
   "codemirror_mode": {
    "name": "ipython",
    "version": 3
   },
   "file_extension": ".py",
   "mimetype": "text/x-python",
   "name": "python",
   "nbconvert_exporter": "python",
   "pygments_lexer": "ipython3",
   "version": "3.10.2"
  }
 },
 "nbformat": 4,
 "nbformat_minor": 5
}
