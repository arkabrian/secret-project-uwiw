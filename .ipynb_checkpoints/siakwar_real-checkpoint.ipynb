{
 "cells": [
  {
   "cell_type": "code",
   "execution_count": 11,
   "id": "b2ab01c5",
   "metadata": {},
   "outputs": [],
   "source": [
    "from selenium import webdriver\n",
    "from selenium.webdriver.common.keys import Keys\n",
    "from selenium.webdriver.common.by import By\n",
    "from selenium.common.exceptions import NoSuchElementException\n",
    "from selenium.webdriver.common.action_chains import ActionChains\n",
    "import time"
   ]
  },
  {
   "cell_type": "code",
   "execution_count": 12,
   "id": "2e3147fe",
   "metadata": {},
   "outputs": [],
   "source": [
    "url = \"https://academic.ui.ac.id/\"\n",
    "path = r\"C:\\Users\\Arka Brian\\Documents\\Arka\\Project kodingan\\BOT SIAKWAR\\msedgedriver.exe\"\n",
    "\n",
    "matkul1 = 'Allin Lanjut 02'\n",
    "matkul2 = 'Analisis Algoritm 02'\n",
    "matkul3 = 'Desain&Manaj Jar 01'\n",
    "matkul4 = 'Matematika Teknik 04'\n",
    "matkul5 = 'Praktikum RE'\n",
    "matkul6 = 'Sist Basis Data 02'\n",
    "matkul7 = 'Sistem Operasi 01'\n",
    "matkul8 = 'Sistm Siber-Fisik 02'"
   ]
  },
  {
   "cell_type": "code",
   "execution_count": 13,
   "id": "3ba7e500",
   "metadata": {},
   "outputs": [],
   "source": [
    "browser_driver = webdriver.Edge(executable_path=path)"
   ]
  },
  {
   "cell_type": "code",
   "execution_count": 15,
   "id": "529148a3",
   "metadata": {},
   "outputs": [],
   "source": [
    "browser_driver.get(url)\n",
    "\n",
    "username_field = browser_driver.find_element_by_name(\"u\")\n",
    "username_field.send_keys(\"arka.brian\")\n",
    "password_field = browser_driver.find_element_by_name(\"p\")\n",
    "password_field.send_keys(\"saitamu1304++\")\n",
    "password_field.send_keys(Keys.RETURN)"
   ]
  },
  {
   "cell_type": "code",
   "execution_count": 16,
   "id": "292d7810",
   "metadata": {},
   "outputs": [],
   "source": [
    "mouse = ActionChains(browser_driver)\n",
    "\n",
    "isi_irs = browser_driver.find_element_by_link_text(\"IRS\")\n",
    "mouse.move_to_element(isi_irs).perform()\n",
    "\n",
    "isi_ubah_irs = browser_driver.find_element_by_link_text(\"Isi/Ubah IRS\")\n",
    "\n",
    "mouse.move_to_element(isi_ubah_irs).click().perform()"
   ]
  }
 ],
 "metadata": {
  "kernelspec": {
   "display_name": "Python 3 (ipykernel)",
   "language": "python",
   "name": "python3"
  },
  "language_info": {
   "codemirror_mode": {
    "name": "ipython",
    "version": 3
   },
   "file_extension": ".py",
   "mimetype": "text/x-python",
   "name": "python",
   "nbconvert_exporter": "python",
   "pygments_lexer": "ipython3",
   "version": "3.10.2"
  }
 },
 "nbformat": 4,
 "nbformat_minor": 5
}
